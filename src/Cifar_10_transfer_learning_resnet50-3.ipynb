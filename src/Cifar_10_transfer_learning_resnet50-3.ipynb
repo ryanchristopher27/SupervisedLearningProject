{
  "cells": [
    {
      "cell_type": "code",
      "execution_count": null,
      "metadata": {
        "id": "1KFyHD1YA1G4"
      },
      "outputs": [],
      "source": [
        "import tensorflow as tf\n",
        "from tensorflow import keras\n",
        "from tensorflow.keras import datasets\n",
        "from tensorflow.keras.models import Sequential\n",
        "from tensorflow.keras.layers import Input, Dense,GlobalAveragePooling2D, Flatten, UpSampling2D\n",
        "from keras.utils import to_categorical\n",
        "from sklearn.model_selection import train_test_split\n",
        "import matplotlib.pyplot as plt"
      ]
    },
    {
      "cell_type": "code",
      "execution_count": null,
      "metadata": {
        "colab": {
          "base_uri": "https://localhost:8080/"
        },
        "id": "_Hd46EShCskk",
        "outputId": "0ac52145-c26e-4a85-813e-aa5b9d80e5dd"
      },
      "outputs": [
        {
          "output_type": "stream",
          "name": "stdout",
          "text": [
            "Downloading data from https://www.cs.toronto.edu/~kriz/cifar-10-python.tar.gz\n",
            "170498071/170498071 [==============================] - 2s 0us/step\n"
          ]
        }
      ],
      "source": [
        "#Load dataset\n",
        "(X_train, Y_train), (X_test, Y_test) = datasets.cifar10.load_data()"
      ]
    },
    {
      "cell_type": "code",
      "execution_count": null,
      "metadata": {
        "id": "qNY5RQrJCe7D"
      },
      "outputs": [],
      "source": [
        "def preprocess_image_input(input_images):\n",
        "  input_images = input_images.astype('float32')\n",
        "  output_ims = tf.keras.applications.resnet50.preprocess_input(input_images)\n",
        "  return output_ims"
      ]
    },
    {
      "cell_type": "code",
      "execution_count": null,
      "metadata": {
        "colab": {
          "base_uri": "https://localhost:8080/"
        },
        "id": "5EsGtCujEcOI",
        "outputId": "ddf1923f-8b07-4cfa-f991-648db99a59fd"
      },
      "outputs": [
        {
          "output_type": "stream",
          "name": "stdout",
          "text": [
            "Downloading data from https://storage.googleapis.com/tensorflow/keras-applications/resnet/resnet50_weights_tf_dim_ordering_tf_kernels_notop.h5\n",
            "94765736/94765736 [==============================] - 1s 0us/step\n"
          ]
        }
      ],
      "source": [
        "from tensorflow.keras.applications.resnet import ResNet50, preprocess_input\n",
        "resnet50_model = ResNet50(weights='imagenet', include_top=False, input_shape=(224, 224, 3))"
      ]
    },
    {
      "cell_type": "code",
      "execution_count": null,
      "metadata": {
        "id": "Pv8D80Bid26N",
        "colab": {
          "base_uri": "https://localhost:8080/"
        },
        "outputId": "cecfdbfb-e3b5-4bc7-ca8a-dd7c80a035cf"
      },
      "outputs": [
        {
          "output_type": "stream",
          "name": "stdout",
          "text": [
            "Model: \"sequential_1\"\n",
            "_________________________________________________________________\n",
            " Layer (type)                Output Shape              Param #   \n",
            "=================================================================\n",
            " up_sampling2d_2 (UpSamplin  (None, 224, 224, 3)       0         \n",
            " g2D)                                                            \n",
            "                                                                 \n",
            " resnet50 (Functional)       (None, 7, 7, 2048)        23587712  \n",
            "                                                                 \n",
            " global_average_pooling2d_1  (None, 2048)              0         \n",
            "  (GlobalAveragePooling2D)                                       \n",
            "                                                                 \n",
            " flatten_1 (Flatten)         (None, 2048)              0         \n",
            "                                                                 \n",
            " dense_2 (Dense)             (None, 1024)              2098176   \n",
            "                                                                 \n",
            " dense_3 (Dense)             (None, 512)               524800    \n",
            "                                                                 \n",
            " classification (Dense)      (None, 10)                5130      \n",
            "                                                                 \n",
            "=================================================================\n",
            "Total params: 26215818 (100.01 MB)\n",
            "Trainable params: 26162698 (99.80 MB)\n",
            "Non-trainable params: 53120 (207.50 KB)\n",
            "_________________________________________________________________\n"
          ]
        }
      ],
      "source": [
        "batch32_model = Sequential([\n",
        "    Input(shape=(32,32,3)),\n",
        "    UpSampling2D(size=(7,7)),\n",
        "    resnet50_model,\n",
        "    GlobalAveragePooling2D(),\n",
        "    Flatten(),\n",
        "    Dense(1024, activation=\"relu\"),\n",
        "    Dense(512, activation=\"relu\"),\n",
        "    Dense(10, activation=\"softmax\", name=\"classification\")\n",
        "\n",
        "])\n",
        "batch32_model.compile(optimizer='SGD',\n",
        "                loss='categorical_crossentropy',\n",
        "                metrics = ['accuracy'])\n",
        "batch32_model.summary()"
      ]
    },
    {
      "cell_type": "code",
      "execution_count": null,
      "metadata": {
        "colab": {
          "base_uri": "https://localhost:8080/",
          "height": 35
        },
        "id": "uK5r-Ptekc-A",
        "outputId": "c631b644-165d-45d0-d624-01f2a09d516c"
      },
      "outputs": [
        {
          "output_type": "execute_result",
          "data": {
            "text/plain": [
              "'/device:GPU:0'"
            ],
            "application/vnd.google.colaboratory.intrinsic+json": {
              "type": "string"
            }
          },
          "metadata": {},
          "execution_count": 9
        }
      ],
      "source": [
        "tf.test.gpu_device_name()"
      ]
    },
    {
      "cell_type": "code",
      "execution_count": null,
      "metadata": {
        "id": "I2Ay75nplMP1"
      },
      "outputs": [],
      "source": [
        "res_train = preprocess_image_input(X_train)\n",
        "res_test  = preprocess_image_input(X_test)\n",
        "\n",
        "\n",
        "res_train_one_hot = to_categorical(Y_train, num_classes=10)\n",
        "res_test_one_hot = to_categorical(Y_test, num_classes=10)\n",
        "\n",
        "\n",
        "X, X_CV, Y, Y_CV = train_test_split(res_train, res_train_one_hot,train_size = 0.8, random_state=1)"
      ]
    },
    {
      "cell_type": "code",
      "execution_count": null,
      "metadata": {
        "colab": {
          "base_uri": "https://localhost:8080/"
        },
        "id": "FDkhGFRYmuP2",
        "outputId": "15632923-a4d8-436d-eb1b-91e5fae47997"
      },
      "outputs": [
        {
          "output_type": "stream",
          "name": "stdout",
          "text": [
            "(40000, 32, 32, 3)\n",
            "(40000, 10)\n",
            "(10000, 32, 32, 3)\n",
            "(10000, 10)\n"
          ]
        }
      ],
      "source": [
        "print(X.shape)\n",
        "print(Y.shape)\n",
        "print(X_CV.shape)\n",
        "print(Y_CV.shape)"
      ]
    },
    {
      "cell_type": "code",
      "execution_count": null,
      "metadata": {
        "colab": {
          "base_uri": "https://localhost:8080/"
        },
        "id": "cPEfAeuxoW8F",
        "outputId": "daceea9a-5fa7-467d-e14e-59e2dbafdc8a"
      },
      "outputs": [
        {
          "output_type": "stream",
          "name": "stdout",
          "text": [
            "Epoch 1/10\n",
            "1250/1250 [==============================] - 445s 334ms/step - loss: 0.3870 - accuracy: 0.8697 - val_loss: 0.1795 - val_accuracy: 0.9384\n",
            "Epoch 2/10\n",
            "1250/1250 [==============================] - 417s 334ms/step - loss: 0.1053 - accuracy: 0.9643 - val_loss: 0.1982 - val_accuracy: 0.9357\n",
            "Epoch 3/10\n",
            "1250/1250 [==============================] - 403s 323ms/step - loss: 0.0410 - accuracy: 0.9874 - val_loss: 0.1626 - val_accuracy: 0.9540\n",
            "Epoch 4/10\n",
            "1250/1250 [==============================] - 417s 334ms/step - loss: 0.0221 - accuracy: 0.9929 - val_loss: 0.1559 - val_accuracy: 0.9551\n",
            "Epoch 5/10\n",
            "1250/1250 [==============================] - 417s 333ms/step - loss: 0.0119 - accuracy: 0.9968 - val_loss: 0.1774 - val_accuracy: 0.9533\n",
            "Epoch 6/10\n",
            "1250/1250 [==============================] - 417s 334ms/step - loss: 0.0109 - accuracy: 0.9966 - val_loss: 0.1998 - val_accuracy: 0.9484\n",
            "Epoch 7/10\n",
            "1250/1250 [==============================] - 404s 323ms/step - loss: 0.0066 - accuracy: 0.9984 - val_loss: 0.1764 - val_accuracy: 0.9530\n",
            "Epoch 8/10\n",
            "1250/1250 [==============================] - 417s 334ms/step - loss: 0.0049 - accuracy: 0.9987 - val_loss: 0.1635 - val_accuracy: 0.9599\n",
            "Epoch 9/10\n",
            "1250/1250 [==============================] - 418s 334ms/step - loss: 0.0038 - accuracy: 0.9991 - val_loss: 0.1673 - val_accuracy: 0.9589\n",
            "Epoch 10/10\n",
            "1250/1250 [==============================] - 417s 334ms/step - loss: 0.0036 - accuracy: 0.9989 - val_loss: 0.1795 - val_accuracy: 0.9545\n"
          ]
        }
      ],
      "source": [
        "history_32 = batch32_model.fit(X, Y, epochs=10, validation_data = (X_CV, Y_CV), batch_size=32)"
      ]
    },
    {
      "cell_type": "code",
      "source": [
        "plt.plot(history_32.history['loss'], label='loss')\n",
        "plt.plot(history_32.history['val_loss'], label = 'val_loss')\n",
        "plt.xlabel('Epoch')\n",
        "plt.ylabel('Loss')\n",
        "plt.ylim([0, 0.5])\n",
        "plt.legend(loc='lower right')"
      ],
      "metadata": {
        "colab": {
          "base_uri": "https://localhost:8080/",
          "height": 472
        },
        "id": "ukdNVofcNMTA",
        "outputId": "7f2b7adf-6530-464e-d88e-72f5b11e6580"
      },
      "execution_count": null,
      "outputs": [
        {
          "output_type": "execute_result",
          "data": {
            "text/plain": [
              "<matplotlib.legend.Legend at 0x7970285f1390>"
            ]
          },
          "metadata": {},
          "execution_count": 16
        },
        {
          "output_type": "display_data",
          "data": {
            "text/plain": [
              "<Figure size 640x480 with 1 Axes>"
            ],
            "image/png": "[encoded data removed]"
          },
          "metadata": {}
        }
      ]
    },
    {
      "cell_type": "code",
      "execution_count": null,
      "metadata": {
        "colab": {
          "base_uri": "https://localhost:8080/"
        },
        "id": "V-V-uDYC48VJ",
        "outputId": "3c2f5c7f-20ad-439f-8efa-1d9d0bb9432b"
      },
      "outputs": [
        {
          "output_type": "stream",
          "name": "stdout",
          "text": [
            "313/313 [==============================] - 28s 90ms/step - loss: 0.1883 - accuracy: 0.9556\n",
            "\n",
            "Test accuracy: 0.9556000232696533\n"
          ]
        }
      ],
      "source": [
        "rest_test_loss, rest_test_acc = batch32_model.evaluate(res_test, res_test_one_hot)\n",
        "print('\\nTest accuracy:', rest_test_acc)"
      ]
    },
    {
      "cell_type": "code",
      "source": [
        "batch64_model = Sequential([\n",
        "    Input(shape=(32,32,3)),\n",
        "    UpSampling2D(size=(7,7)),\n",
        "    resnet50_model,\n",
        "    GlobalAveragePooling2D(),\n",
        "    Flatten(),\n",
        "    Dense(1024, activation=\"relu\"),\n",
        "    Dense(512, activation=\"relu\"),\n",
        "    Dense(10, activation=\"softmax\", name=\"classification\")\n",
        "\n",
        "])\n",
        "batch64_model.compile(optimizer='SGD',\n",
        "                loss='categorical_crossentropy',\n",
        "                metrics = ['accuracy'])\n",
        "batch64_model.summary()"
      ],
      "metadata": {
        "colab": {
          "base_uri": "https://localhost:8080/"
        },
        "id": "2EE7FMomBvc2",
        "outputId": "734b2e1a-b8b5-40fd-8aa0-2bebd4965c19"
      },
      "execution_count": null,
      "outputs": [
        {
          "output_type": "stream",
          "name": "stdout",
          "text": [
            "Model: \"sequential\"\n",
            "_________________________________________________________________\n",
            " Layer (type)                Output Shape              Param #   \n",
            "=================================================================\n",
            " up_sampling2d (UpSampling2  (None, 224, 224, 3)       0         \n",
            " D)                                                              \n",
            "                                                                 \n",
            " resnet50 (Functional)       (None, 7, 7, 2048)        23587712  \n",
            "                                                                 \n",
            " global_average_pooling2d (  (None, 2048)              0         \n",
            " GlobalAveragePooling2D)                                         \n",
            "                                                                 \n",
            " flatten (Flatten)           (None, 2048)              0         \n",
            "                                                                 \n",
            " dense (Dense)               (None, 1024)              2098176   \n",
            "                                                                 \n",
            " dense_1 (Dense)             (None, 512)               524800    \n",
            "                                                                 \n",
            " classification (Dense)      (None, 10)                5130      \n",
            "                                                                 \n",
            "=================================================================\n",
            "Total params: 26215818 (100.01 MB)\n",
            "Trainable params: 26162698 (99.80 MB)\n",
            "Non-trainable params: 53120 (207.50 KB)\n",
            "_________________________________________________________________\n"
          ]
        }
      ]
    },
    {
      "cell_type": "code",
      "source": [
        "history_64 = batch64_model.fit(X, Y, epochs=10, validation_data = (X_CV, Y_CV), batch_size=64)"
      ],
      "metadata": {
        "colab": {
          "base_uri": "https://localhost:8080/"
        },
        "id": "kxas8DU8d0yw",
        "outputId": "f7a2694e-7d20-4578-bf7a-f679f22abf4d"
      },
      "execution_count": null,
      "outputs": [
        {
          "output_type": "stream",
          "name": "stdout",
          "text": [
            "Epoch 1/10\n",
            "625/625 [==============================] - 462s 694ms/step - loss: 0.4514 - accuracy: 0.8526 - val_loss: 0.2281 - val_accuracy: 0.9227\n",
            "Epoch 2/10\n",
            "625/625 [==============================] - 446s 714ms/step - loss: 0.1140 - accuracy: 0.9626 - val_loss: 0.2137 - val_accuracy: 0.9256\n",
            "Epoch 3/10\n",
            "625/625 [==============================] - 446s 714ms/step - loss: 0.0379 - accuracy: 0.9901 - val_loss: 0.2040 - val_accuracy: 0.9378\n",
            "Epoch 4/10\n",
            "625/625 [==============================] - 436s 698ms/step - loss: 0.0168 - accuracy: 0.9961 - val_loss: 0.1677 - val_accuracy: 0.9488\n",
            "Epoch 5/10\n",
            "625/625 [==============================] - 446s 714ms/step - loss: 0.0082 - accuracy: 0.9985 - val_loss: 0.1708 - val_accuracy: 0.9503\n",
            "Epoch 6/10\n",
            "625/625 [==============================] - 447s 715ms/step - loss: 0.0051 - accuracy: 0.9991 - val_loss: 0.1793 - val_accuracy: 0.9519\n",
            "Epoch 7/10\n",
            "625/625 [==============================] - 446s 714ms/step - loss: 0.0040 - accuracy: 0.9994 - val_loss: 0.1753 - val_accuracy: 0.9546\n",
            "Epoch 8/10\n",
            "625/625 [==============================] - 437s 699ms/step - loss: 0.0031 - accuracy: 0.9995 - val_loss: 0.1818 - val_accuracy: 0.9515\n",
            "Epoch 9/10\n",
            "625/625 [==============================] - 446s 714ms/step - loss: 0.0019 - accuracy: 0.9999 - val_loss: 0.1813 - val_accuracy: 0.9529\n",
            "Epoch 10/10\n",
            "625/625 [==============================] - 447s 715ms/step - loss: 0.0019 - accuracy: 0.9997 - val_loss: 0.1893 - val_accuracy: 0.9506\n"
          ]
        }
      ]
    },
    {
      "cell_type": "code",
      "source": [
        "plt.plot(history_64.history['loss'], label='loss')\n",
        "plt.plot(history_64.history['val_loss'], label = 'val_loss')\n",
        "plt.xlabel('Epoch')\n",
        "plt.ylabel('Loss')\n",
        "plt.ylim([0, 0.5])\n",
        "plt.legend(loc='lower right')"
      ],
      "metadata": {
        "colab": {
          "base_uri": "https://localhost:8080/",
          "height": 472
        },
        "id": "S2bphTNpd3hl",
        "outputId": "92a9885f-f19c-4c5e-82fe-6de87b686074"
      },
      "execution_count": null,
      "outputs": [
        {
          "output_type": "execute_result",
          "data": {
            "text/plain": [
              "<matplotlib.legend.Legend at 0x7dd0e002dcc0>"
            ]
          },
          "metadata": {},
          "execution_count": 10
        },
        {
          "output_type": "display_data",
          "data": {
            "text/plain": [
              "<Figure size 640x480 with 1 Axes>"
            ],
            "image/png": "[encoded data removed]"
          },
          "metadata": {}
        }
      ]
    },
    {
      "cell_type": "code",
      "source": [
        "rest_test_loss, rest_test_acc = batch64_model.evaluate(res_test, res_test_one_hot)\n",
        "print('\\nTest accuracy:', rest_test_acc)"
      ],
      "metadata": {
        "colab": {
          "base_uri": "https://localhost:8080/"
        },
        "id": "QPd1SCLtd5pq",
        "outputId": "3af2abef-4eb7-483e-8d74-3855295dc055"
      },
      "execution_count": null,
      "outputs": [
        {
          "output_type": "stream",
          "name": "stdout",
          "text": [
            "313/313 [==============================] - 35s 103ms/step - loss: 0.1966 - accuracy: 0.9526\n",
            "\n",
            "Test accuracy: 0.9526000022888184\n"
          ]
        }
      ]
    },
    {
      "cell_type": "code",
      "source": [
        "batch10_model = Sequential([\n",
        "    Input(shape=(32,32,3)),\n",
        "    UpSampling2D(size=(7,7)),\n",
        "    resnet50_model,\n",
        "    GlobalAveragePooling2D(),\n",
        "    Flatten(),\n",
        "    Dense(1024, activation=\"relu\"),\n",
        "    Dense(512, activation=\"relu\"),\n",
        "    Dense(10, activation=\"softmax\", name=\"classification\")\n",
        "\n",
        "])\n",
        "batch10_model.compile(optimizer='SGD',\n",
        "                loss='categorical_crossentropy',\n",
        "                metrics = ['accuracy'])\n",
        "batch10_model.summary()"
      ],
      "metadata": {
        "colab": {
          "base_uri": "https://localhost:8080/"
        },
        "id": "lXYJ0TRa7BMX",
        "outputId": "f01534b7-7b54-4d01-94fa-91fc66b07803"
      },
      "execution_count": 18,
      "outputs": [
        {
          "output_type": "stream",
          "name": "stdout",
          "text": [
            "Model: \"sequential_3\"\n",
            "_________________________________________________________________\n",
            " Layer (type)                Output Shape              Param #   \n",
            "=================================================================\n",
            " up_sampling2d_3 (UpSamplin  (None, 224, 224, 3)       0         \n",
            " g2D)                                                            \n",
            "                                                                 \n",
            " resnet50 (Functional)       (None, 7, 7, 2048)        23587712  \n",
            "                                                                 \n",
            " global_average_pooling2d_3  (None, 2048)              0         \n",
            "  (GlobalAveragePooling2D)                                       \n",
            "                                                                 \n",
            " flatten_3 (Flatten)         (None, 2048)              0         \n",
            "                                                                 \n",
            " dense_6 (Dense)             (None, 1024)              2098176   \n",
            "                                                                 \n",
            " dense_7 (Dense)             (None, 512)               524800    \n",
            "                                                                 \n",
            " classification (Dense)      (None, 10)                5130      \n",
            "                                                                 \n",
            "=================================================================\n",
            "Total params: 26215818 (100.01 MB)\n",
            "Trainable params: 26162698 (99.80 MB)\n",
            "Non-trainable params: 53120 (207.50 KB)\n",
            "_________________________________________________________________\n"
          ]
        }
      ]
    },
    {
      "cell_type": "code",
      "source": [],
      "metadata": {
        "id": "Z5bTTZkcTYJl"
      },
      "execution_count": null,
      "outputs": []
    },
    {
      "cell_type": "code",
      "source": [],
      "metadata": {
        "id": "p2OQ2xU4Tfpk"
      },
      "execution_count": null,
      "outputs": []
    },
    {
      "cell_type": "code",
      "source": [],
      "metadata": {
        "id": "L-o_gpTBTYD2"
      },
      "execution_count": null,
      "outputs": []
    },
    {
      "cell_type": "code",
      "source": [],
      "metadata": {
        "id": "bep8NMz5TX5H"
      },
      "execution_count": null,
      "outputs": []
    }
  ],
  "metadata": {
    "accelerator": "GPU",
    "colab": {
      "provenance": []
    },
    "kernelspec": {
      "display_name": "Python 3",
      "name": "python3"
    },
    "language_info": {
      "name": "python"
    }
  },
  "nbformat": 4,
  "nbformat_minor": 0
}