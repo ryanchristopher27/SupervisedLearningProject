{
  "cells": [
    {
      "cell_type": "code",
      "execution_count": null,
      "metadata": {
        "id": "1KFyHD1YA1G4"
      },
      "outputs": [],
      "source": [
        "import tensorflow as tf\n",
        "from tensorflow import keras\n",
        "from tensorflow.keras import datasets\n",
        "from tensorflow.keras.models import Sequential\n",
        "from tensorflow.keras.layers import Input, Dense,GlobalAveragePooling2D, Flatten, UpSampling2D\n",
        "from keras.utils import to_categorical\n",
        "from sklearn.model_selection import train_test_split"
      ]
    },
    {
      "cell_type": "code",
      "execution_count": null,
      "metadata": {
        "colab": {
          "base_uri": "https://localhost:8080/"
        },
        "id": "_Hd46EShCskk",
        "outputId": "77b9451f-08f2-49ed-8708-ff89077962cc"
      },
      "outputs": [
        {
          "name": "stdout",
          "output_type": "stream",
          "text": [
            "Downloading data from https://www.cs.toronto.edu/~kriz/cifar-10-python.tar.gz\n",
            "170498071/170498071 [==============================] - 4s 0us/step\n"
          ]
        }
      ],
      "source": [
        "#Load dataset\n",
        "(X_train, Y_train), (X_test, Y_test) = datasets.cifar10.load_data()"
      ]
    },
    {
      "cell_type": "code",
      "execution_count": null,
      "metadata": {
        "id": "qNY5RQrJCe7D"
      },
      "outputs": [],
      "source": [
        "def preprocess_image_input(input_images):\n",
        "  input_images = input_images.astype('float32')\n",
        "  output_ims = tf.keras.applications.resnet50.preprocess_input(input_images)\n",
        "  return output_ims"
      ]
    },
    {
      "cell_type": "code",
      "execution_count": null,
      "metadata": {
        "colab": {
          "base_uri": "https://localhost:8080/"
        },
        "id": "5EsGtCujEcOI",
        "outputId": "620dc380-6177-46d3-f3a4-93015bb3a831"
      },
      "outputs": [
        {
          "name": "stdout",
          "output_type": "stream",
          "text": [
            "Downloading data from https://storage.googleapis.com/tensorflow/keras-applications/resnet/resnet50_weights_tf_dim_ordering_tf_kernels_notop.h5\n",
            "94765736/94765736 [==============================] - 0s 0us/step\n"
          ]
        }
      ],
      "source": [
        "from tensorflow.keras.applications.resnet import ResNet50, preprocess_input\n",
        "restnet50_model = ResNet50(weights='imagenet', include_top=False, input_shape=(224, 224, 3))"
      ]
    },
    {
      "cell_type": "code",
      "execution_count": null,
      "metadata": {
        "id": "BpxH9YJjZyyA"
      },
      "outputs": [],
      "source": [
        "x = tf.keras.layers.Input(shape=(32,32,3))\n",
        "resize = tf.keras.layers.UpSampling2D(size=(7,7))(x)\n",
        "feature_extractor = tf.keras.applications.resnet.ResNet50(input_shape=(224, 224, 3),\n",
        "                                               include_top=False,\n",
        "                                               weights='imagenet')(resize)\n",
        "x = tf.keras.layers.GlobalAveragePooling2D()(feature_extractor)\n",
        "x = tf.keras.layers.Flatten()(x)\n",
        "x = tf.keras.layers.Dense(1024, activation=\"relu\")(x)\n",
        "x = tf.keras.layers.Dense(512, activation=\"relu\")(x)\n",
        "x = tf.keras.layers.Dense(10, activation=\"softmax\", name=\"classification\")(x)\n"
      ]
    },
    {
      "cell_type": "code",
      "execution_count": null,
      "metadata": {
        "id": "Pv8D80Bid26N"
      },
      "outputs": [],
      "source": [
        "model = Sequential([\n",
        "    Input(shape=(32,32,3)),\n",
        "    UpSampling2D(size=(7,7)),\n",
        "    restnet50_model,\n",
        "    GlobalAveragePooling2D(),\n",
        "    Flatten(),\n",
        "    Dense(1024, activation=\"relu\"),\n",
        "    Dense(512, activation=\"relu\"),\n",
        "    Dense(10, activation=\"softmax\", name=\"classification\")\n",
        "\n",
        "])\n",
        "model.compile(optimizer='SGD',\n",
        "                loss='categorical_crossentropy',\n",
        "                metrics = ['accuracy'])"
      ]
    },
    {
      "cell_type": "code",
      "execution_count": null,
      "metadata": {
        "colab": {
          "base_uri": "https://localhost:8080/"
        },
        "id": "ztj1Oyinj4co",
        "outputId": "36f1cb6f-cea1-4598-b00e-fcd782971451"
      },
      "outputs": [
        {
          "name": "stdout",
          "output_type": "stream",
          "text": [
            "Model: \"sequential\"\n",
            "_________________________________________________________________\n",
            " Layer (type)                Output Shape              Param #   \n",
            "=================================================================\n",
            " up_sampling2d_1 (UpSamplin  (None, 224, 224, 3)       0         \n",
            " g2D)                                                            \n",
            "                                                                 \n",
            " resnet50 (Functional)       (None, 7, 7, 2048)        23587712  \n",
            "                                                                 \n",
            " global_average_pooling2d_1  (None, 2048)              0         \n",
            "  (GlobalAveragePooling2D)                                       \n",
            "                                                                 \n",
            " flatten_1 (Flatten)         (None, 2048)              0         \n",
            "                                                                 \n",
            " dense_2 (Dense)             (None, 1024)              2098176   \n",
            "                                                                 \n",
            " dense_3 (Dense)             (None, 512)               524800    \n",
            "                                                                 \n",
            " classification (Dense)      (None, 10)                5130      \n",
            "                                                                 \n",
            "=================================================================\n",
            "Total params: 26215818 (100.01 MB)\n",
            "Trainable params: 26162698 (99.80 MB)\n",
            "Non-trainable params: 53120 (207.50 KB)\n",
            "_________________________________________________________________\n"
          ]
        }
      ],
      "source": [
        "\n",
        "model.summary()"
      ]
    },
    {
      "cell_type": "code",
      "execution_count": null,
      "metadata": {
        "colab": {
          "base_uri": "https://localhost:8080/",
          "height": 35
        },
        "id": "uK5r-Ptekc-A",
        "outputId": "b74ea527-5e77-4b88-b364-154e973e6b90"
      },
      "outputs": [
        {
          "data": {
            "application/vnd.google.colaboratory.intrinsic+json": {
              "type": "string"
            },
            "text/plain": [
              "'/device:GPU:0'"
            ]
          },
          "execution_count": 9,
          "metadata": {},
          "output_type": "execute_result"
        }
      ],
      "source": [
        "tf.test.gpu_device_name()"
      ]
    },
    {
      "cell_type": "code",
      "execution_count": null,
      "metadata": {
        "id": "I2Ay75nplMP1"
      },
      "outputs": [],
      "source": [
        "res_train = preprocess_image_input(X_train)\n",
        "res_test  = preprocess_image_input(X_test)\n",
        "\n",
        "\n",
        "res_train_one_hot = to_categorical(Y_train, num_classes=10)\n",
        "res_test_one_hot = to_categorical(Y_test, num_classes=10)\n",
        "\n",
        "\n",
        "X, X_CV, Y, Y_CV = train_test_split(res_train, res_train_one_hot,train_size = 0.8, random_state=1)"
      ]
    },
    {
      "cell_type": "code",
      "execution_count": null,
      "metadata": {
        "colab": {
          "base_uri": "https://localhost:8080/"
        },
        "id": "FDkhGFRYmuP2",
        "outputId": "b7a20b67-4890-43db-bc2d-ec1f8d1cadfc"
      },
      "outputs": [
        {
          "name": "stdout",
          "output_type": "stream",
          "text": [
            "(40000, 32, 32, 3)\n",
            "(40000, 10)\n",
            "(10000, 32, 32, 3)\n",
            "(10000, 10)\n"
          ]
        }
      ],
      "source": [
        "print(X.shape)\n",
        "print(Y.shape)\n",
        "print(X_CV.shape)\n",
        "print(Y_CV.shape)"
      ]
    },
    {
      "cell_type": "code",
      "execution_count": null,
      "metadata": {
        "colab": {
          "base_uri": "https://localhost:8080/"
        },
        "id": "cPEfAeuxoW8F",
        "outputId": "bfaddc65-26c6-437a-e594-883a95f22aa8"
      },
      "outputs": [
        {
          "name": "stdout",
          "output_type": "stream",
          "text": [
            "Epoch 1/10\n",
            "1250/1250 [==============================] - 448s 337ms/step - loss: 0.3751 - accuracy: 0.8736 - val_loss: 0.2330 - val_accuracy: 0.9199\n",
            "Epoch 2/10\n",
            "1250/1250 [==============================] - 427s 342ms/step - loss: 0.1040 - accuracy: 0.9657 - val_loss: 0.1612 - val_accuracy: 0.9465\n",
            "Epoch 3/10\n",
            "1250/1250 [==============================] - 415s 332ms/step - loss: 0.0388 - accuracy: 0.9873 - val_loss: 0.2023 - val_accuracy: 0.9399\n",
            "Epoch 4/10\n",
            "1250/1250 [==============================] - 429s 343ms/step - loss: 0.0205 - accuracy: 0.9930 - val_loss: 0.1663 - val_accuracy: 0.9518\n",
            "Epoch 5/10\n",
            "1250/1250 [==============================] - 429s 343ms/step - loss: 0.0124 - accuracy: 0.9963 - val_loss: 0.1664 - val_accuracy: 0.9561\n",
            "Epoch 6/10\n",
            "1250/1250 [==============================] - 429s 343ms/step - loss: 0.0112 - accuracy: 0.9963 - val_loss: 0.1829 - val_accuracy: 0.9511\n",
            "Epoch 7/10\n",
            "1250/1250 [==============================] - 429s 343ms/step - loss: 0.0093 - accuracy: 0.9973 - val_loss: 0.1662 - val_accuracy: 0.9555\n",
            "Epoch 8/10\n",
            "1250/1250 [==============================] - 430s 344ms/step - loss: 0.0055 - accuracy: 0.9985 - val_loss: 0.1698 - val_accuracy: 0.9569\n",
            "Epoch 9/10\n",
            "1250/1250 [==============================] - 430s 344ms/step - loss: 0.0057 - accuracy: 0.9984 - val_loss: 0.1677 - val_accuracy: 0.9598\n",
            "Epoch 10/10\n",
            "1250/1250 [==============================] - 418s 334ms/step - loss: 0.0031 - accuracy: 0.9992 - val_loss: 0.1690 - val_accuracy: 0.9593\n"
          ]
        },
        {
          "data": {
            "text/plain": [
              "<keras.src.callbacks.History at 0x7afa7079b880>"
            ]
          },
          "execution_count": 16,
          "metadata": {},
          "output_type": "execute_result"
        }
      ],
      "source": [
        "model.fit(X, Y, epochs=10, validation_data = (X_CV, Y_CV), batch_size=32)"
      ]
    },
    {
      "cell_type": "code",
      "execution_count": null,
      "metadata": {
        "colab": {
          "background_save": true,
          "base_uri": "https://localhost:8080/"
        },
        "id": "V-V-uDYC48VJ",
        "outputId": "2939a6b0-f455-4d5a-a90d-bc7af6913d0a"
      },
      "outputs": [
        {
          "name": "stdout",
          "output_type": "stream",
          "text": [
            "313/313 [==============================] - 30s 95ms/step - loss: 0.1755 - accuracy: 0.9589\n",
            "\n",
            "Test accuracy: 0.958899974822998\n"
          ]
        }
      ],
      "source": [
        "rest_test_loss, rest_test_acc = model.evaluate(res_test, res_test_one_hot)\n",
        "print('\\nTest accuracy:', rest_test_acc)"
      ]
    }
  ],
  "metadata": {
    "accelerator": "GPU",
    "colab": {
      "provenance": []
    },
    "kernelspec": {
      "display_name": "Python 3",
      "name": "python3"
    },
    "language_info": {
      "name": "python"
    }
  },
  "nbformat": 4,
  "nbformat_minor": 0
}